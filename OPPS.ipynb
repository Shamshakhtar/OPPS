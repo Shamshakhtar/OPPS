{
  "nbformat": 4,
  "nbformat_minor": 0,
  "metadata": {
    "colab": {
      "provenance": []
    },
    "kernelspec": {
      "name": "python3",
      "display_name": "Python 3"
    },
    "language_info": {
      "name": "python"
    }
  },
  "cells": [
    {
      "cell_type": "markdown",
      "source": [
        "**OPPS Assignment Question**"
      ],
      "metadata": {
        "id": "z-fR4BeLKOV5"
      }
    },
    {
      "cell_type": "markdown",
      "source": [
        "Question 1 - What is Object-Oriented Programming (OOP)?\n",
        "\n",
        "Answer - Object-Oriented Programming (OOP) is a programming paradigm based on the concept of \"objects\", which can contain both data (attributes) and functions (methods) that operate on that data."
      ],
      "metadata": {
        "id": "iDydxvvJKhUg"
      }
    },
    {
      "cell_type": "markdown",
      "source": [
        "Question 2 - What is a class in OOP?\n",
        "\n",
        "Answer - In OOP, a class is a blueprint or template used to create objects. It defines the attributes (data) and methods (functions) that the objects created from the class will have."
      ],
      "metadata": {
        "id": "lgdaJ4z_KhWt"
      }
    },
    {
      "cell_type": "markdown",
      "source": [
        "Question 3 - What is an object in OOP?\n",
        "\n",
        "Answer - An object is an instantiation of a class. When class is defined, templete (info) id defined. Memoy is allocated only after object instantiation.\n",
        "\n",
        "Object of a given class can invoke the methods available to it without revealing implementation details to the user."
      ],
      "metadata": {
        "id": "Z-7KJ3oyKhZd"
      }
    },
    {
      "cell_type": "markdown",
      "source": [
        "Question 4 - What is the difference between abstraction and encapsulation?\n",
        "\n",
        "Answer - Abstraction - Abstraction means hiding the complex implementation details and showing only the essential features to the user.\n",
        "Goal - Focus on what an object does, not how it does it.\n",
        "\n",
        "1. Focus On - Hiding implementation details\n",
        "2. Achived by -  Hiding implementation details\n",
        "3. Purpose - To reduce complexity\n",
        "4. Example Use - ATM interface (user sees options)\n",
        "\n",
        "Encapsulation - Encapsulation means bundling data and methods that operate on that data into a single unit (class), and restricting direct access to some of the object's components.\n",
        "Goal - Control access and protect the internal state.\n",
        "\n",
        "1. Focus on - Hiding internal data and protecting it\n",
        "2. Achived by - Using access modifiers (e.g., __)\n",
        "3. Purpose - To increase security and maintainability\n",
        "4. Example use - User cannot access account balance directy\n",
        "\n",
        "\n"
      ],
      "metadata": {
        "id": "stuNrKi6KhdZ"
      }
    },
    {
      "cell_type": "markdown",
      "source": [
        "Question 5 - What are dunder methods in Python?\n",
        "\n",
        "Answer - Dunder methods (short for “double underscore” methods), also called magic methods or special methods, are built-in methods in Python that start and end with double underscores, like __init__, __str__, or __len__.\n",
        "\n",
        "They are used to define how objects of your class behave with built-in operations such as printing, adding, comparing, or getting the length."
      ],
      "metadata": {
        "id": "jqGbYbS5YrEJ"
      }
    },
    {
      "cell_type": "markdown",
      "source": [
        "Question 6 - Explain the concept of inheritance in OOP?\n",
        "\n",
        "Answer - Inheritance is a core concept in OOP that allows one class (child or subclass) to acquire the properties and behaviors (attributes and methods) of another class (parent or superclass)."
      ],
      "metadata": {
        "id": "a_pJGz_hZF9G"
      }
    },
    {
      "cell_type": "markdown",
      "source": [
        "Question 7 -  What is polymorphism in OOP?\n",
        "\n",
        "Answer - Polymorphism means “many forms”. In OOP, it refers to the ability of different classes to respond to the same method call in different ways.\n",
        "\n",
        "It allows you to write generic code that works on objects of different types, as long as they implement the expected behavio"
      ],
      "metadata": {
        "id": "ec-2axETZGAP"
      }
    },
    {
      "cell_type": "markdown",
      "source": [
        "Question 8 - How is encapsulation achieved in Python?\n",
        "\n",
        "Answer - Encapsulation is achieved by bundling data (attributes) and methods (functions) that operate on that data within a class, and restricting direct access to some parts of the object."
      ],
      "metadata": {
        "id": "ZIeaS5PQZGDX"
      }
    },
    {
      "cell_type": "markdown",
      "source": [
        "Question 9 - What is a constructor in Python?\n",
        "\n",
        "Answer- A constructor is a special method in Python that is automatically called when a new object of a class is created. Its main purpose is to initialize the object's attributes."
      ],
      "metadata": {
        "id": "XHhr2GfjZGGd"
      }
    },
    {
      "cell_type": "markdown",
      "source": [
        "Question 10 -  What are class and static methods in Python?\n",
        "\n",
        "Answer - a. Class Method (@classmethod)\n",
        "1. Takes cls (the class itself) as the first parameter.\n",
        "2. Can access/modify class-level attributes.\n",
        "3. Useful for creating alternative constructors or working with shared data.\n",
        "\n",
        "b. Static Method (@staticmethod)\n",
        "1. Doesn’t take self or cls as the first argument.\n",
        "2. Can’t access or modify class or instance attributes.\n",
        "3. Used for utility/helper functions that are logically related to the class but don't need access to it.\n"
      ],
      "metadata": {
        "id": "cgwRMkl2ZGJ7"
      }
    },
    {
      "cell_type": "markdown",
      "source": [
        "Question 11- What is method overloading in Python?\n",
        "\n",
        "Answer -Method overloading refers to the ability to define multiple methods with the same name but different parameters.\n"
      ],
      "metadata": {
        "id": "Gwy-AMkMZGNd"
      }
    },
    {
      "cell_type": "markdown",
      "source": [
        "Question 12-  What is method overriding in OOP?\n",
        "\n",
        "Answer - Method overriding in Object-Oriented Programming (OOP) is a feature that allows a child class (subclass) to provide a specific implementation of a method that is already defined in its parent class (superclass).\n",
        "\n",
        "Key Points:\n",
        "1. The method in the child class must have the same name, parameters, and return type as the one in the parent class.\n",
        "\n",
        "2. It allows runtime polymorphism, enabling different behaviors for the same method call, depending on the object's actual class."
      ],
      "metadata": {
        "id": "GmCCINwwZGRB"
      }
    },
    {
      "cell_type": "markdown",
      "source": [
        "Question 13 -  What is a property decorator in Python?\n",
        "\n",
        "Answer- The property decorator in Python is used to define getter methods that can be accessed like attributes, while still allowing for encapsulation and control over attribute access.\n",
        "\n",
        "Why use Property?\n",
        "1. It lets you:\n",
        "2. Hide internal data (encapsulation).\n",
        "3. Add logic when accessing a value (e.g., validation or computation).\n",
        "\n",
        "Maintain the syntax of attribute access (e.g., obj.name instead of obj.get_name())."
      ],
      "metadata": {
        "id": "ab8g3gUhZGVz"
      }
    },
    {
      "cell_type": "markdown",
      "source": [
        "Question 14- Why is polymorphism important in OOP?\n",
        "\n",
        "Answer -Polymorphism is important in Object-Oriented Programming (OOP) because it allows objects of different classes to be treated as if they are objects of a common superclass, enabling flexibility, scalability, and code reuse.\n",
        "\n",
        "***Key Benefits of Polymorphism:\n",
        "1. Code Reusability & Simplification - You can write general-purpose code that works with different types of objects, reducing duplication.\n",
        "\n",
        "2. Interface Consistency - Different classes can implement the same method names (like speak()), and you can call them without knowing the object's exact type.\n",
        "\n",
        "3. Extensibility - You can add new classes with minimal changes to existing code, following the Open/Closed Principle (open for extension, closed for modification).\n",
        "\n",
        "4. Runtime Flexibility (Dynamic Binding) - Decisions about which method to call are made at runtime, making your programs more adaptable and powerful.\n"
      ],
      "metadata": {
        "id": "iWoROM26ZGa3"
      }
    },
    {
      "cell_type": "markdown",
      "source": [
        "Question 15-  What is an abstract class in Python?\n",
        "\n",
        "Answer -An abstract class in Python is a class that cannot be instantiated directly. It serves as a blueprint for other classes. It can include abstract methods, which are methods that are declared but contain no implementation. Any subclass of an abstract class must implement all of its abstract methods.\n",
        "\n",
        "Abstract classes are used to define a common interface for a group of related classes, while still enforcing a specific structure and behavior that subclasses must follow."
      ],
      "metadata": {
        "id": "VFFXK-JSZGfN"
      }
    },
    {
      "cell_type": "markdown",
      "source": [
        "Question 16- What are the advantages of OOP?\n",
        "\n",
        "Answer -Advantage of OPP -\n",
        "\n",
        "1. Encapsulation protects data and simplifies debugging.\n",
        "2. Modularity enables organized and reusable code.\n",
        "3. Inheritance allows for extending and reusing code.\n",
        "4. Polymorphism increases flexibility and simplifies code.\n",
        "5. Abstraction hides complexity, focusing on essential features.\n",
        "6. Maintainability allows for easier updates and debugging.\n",
        "7. Extensibility makes adding new features easier without modifying existing code.\n",
        "8. Improved Collaboration helps teams work more efficiently on different components.\n",
        "\n",
        "\n",
        "These advantages make OOP a powerful and widely-used programming paradigm, especially for large-scale systems, long-term maintainability, and ease of collaboration among developers."
      ],
      "metadata": {
        "id": "jjbRR6rGa2_V"
      }
    },
    {
      "cell_type": "markdown",
      "source": [
        "Question 17- What is the difference between a class variable and an instance variable?\n",
        "\n",
        "Answer - Class Variables\n",
        "1. Defined inside a class, but outside any methods.\n",
        "2. Shared across all instances of the class.\n",
        "3. Can be accessed by using the class name or via instances.\n",
        "4. Typically used for values that should be the same for all objects of the class.\n",
        "\n",
        "Instance Variables\n",
        "1. Defined inside a method, usually in the __init__ method (the constructor).\n",
        "2. Unique to each instance of the class.\n",
        "3. Each object (instance) has its own copy of the instance variables.\n",
        "4. Typically used to store data specific to each object."
      ],
      "metadata": {
        "id": "-E9Bt1E3a3F5"
      }
    },
    {
      "cell_type": "markdown",
      "source": [
        "Question 18-  What is multiple inheritance in Python?\n",
        "\n",
        "Answer - Multiple inheritance in Python refers to the ability of a class to inherit attributes and methods from more than one parent class. This allows a subclass to combine behaviors from multiple classes."
      ],
      "metadata": {
        "id": "tiWJ6w4Za3LD"
      }
    },
    {
      "cell_type": "markdown",
      "source": [
        "Question 19-  Explain the purpose of ‘’__str__’ and ‘__repr__’ ‘ methods in Python.\n",
        "\n",
        "Answer - In Python, the __str__() and __repr__() methods are used to define how objects of a class are represented as strings. While they serve similar purposes, they have distinct use cases and are intended for different contexts."
      ],
      "metadata": {
        "id": "NvIBbDuoa3Pk"
      }
    },
    {
      "cell_type": "markdown",
      "source": [
        "Question 20 - What is the significance of the ‘super()’ function in Python?\n",
        "\n",
        "Answer - The super() function in Python is used to call methods from a superclass (parent class) in the context of inheritance. It is commonly used to invoke the constructor (__init__) or other methods of the parent class when working with subclasses, particularly when dealing with multiple inheritance or ensuring that parent class initialization is properly handled."
      ],
      "metadata": {
        "id": "VgyiKwu9a34x"
      }
    },
    {
      "cell_type": "markdown",
      "source": [
        "Question 21 - What is the significance of the __del__ method in Python?\n",
        "\n",
        "Answer -In Python, del is a keyword (not a method) that is used to delete objects, variables, elements in data structures, or attributes of objects. It can also be used to remove references to objects, effectively allowing Python's garbage collector to clean up the memory if no other references exist to the object."
      ],
      "metadata": {
        "id": "1TOT21xEa3_A"
      }
    },
    {
      "cell_type": "markdown",
      "source": [
        "Question 22 - What is the difference between @staticmethod and @classmethod in Python?\n",
        "\n",
        "Answer - staticmethod: A method that doesn't require access to the class or instance. It’s used for utility functions that belong to the class but don't operate on its data.\n",
        "\n",
        "classmethod: A method that takes the class itself (cls) as the first argument. It is used for operations that work with class-level data or for factory methods that create instances of the class."
      ],
      "metadata": {
        "id": "T1Sb7beEa4FU"
      }
    },
    {
      "cell_type": "markdown",
      "source": [
        "Question 23- How does polymorphism work in Python with inheritance?\n",
        "\n",
        "Answer - Polymorphism in Python, as in other Object-Oriented Programming (OOP) languages, refers to the ability to use a single interface to represent different underlying forms. In simple terms, it allows you to call the same method on objects of different classes, and each class can implement its own version of that method.\n",
        "\n",
        "In Python, polymorphism typically works in two key ways:\n",
        "\n",
        "1. Method Overriding: A subclass can override a method from the parent class to provide its own implementation.\n",
        "\n",
        "2. Duck Typing: Python allows objects of different classes to be used interchangeably, as long as they implement the required behavior (method or attribute).\n",
        "\n"
      ],
      "metadata": {
        "id": "Ga1B-Dm2a4Kz"
      }
    },
    {
      "cell_type": "markdown",
      "source": [
        "Question 24 - What is method chaining in Python OOP?\n",
        "\n",
        "Answer - Method chaining in Python is a technique where you call multiple methods on the same object in a single line of code, with each method returning the object itself (or a modified version of the object). This allows you to \"chain\" multiple method calls together, improving readability and conciseness."
      ],
      "metadata": {
        "id": "u9nfCXlAa4SB"
      }
    },
    {
      "cell_type": "markdown",
      "source": [
        "Question 25- What is the purpose of the __call__ method in Python?\n",
        "\n",
        "Answer -In Python, the __call__() method is a special method that allows an object to be called like a function. When an instance of a class has a __call__() method defined, you can invoke that object directly as if it were a function.\n",
        "\n",
        "Purpose of the __call__() Method:\n",
        "1. It allows objects to behave like functions.\n",
        "2. It can be used to encapsulate callable behavior inside a class, allowing you to call instances with arguments just like you would call a function.\n",
        "3. It provides a way to define custom behavior when an object is called.\n"
      ],
      "metadata": {
        "id": "ckhFCuoqa4aC"
      }
    },
    {
      "cell_type": "markdown",
      "source": [
        "**Practical Questions**"
      ],
      "metadata": {
        "id": "c1BvMBeya4ju"
      }
    },
    {
      "cell_type": "code",
      "source": [
        "''' Question 1- Create a parent class Animal with a method speak() that prints a generic message. Create a child class Dog\n",
        "that overrides the speak() method to print \"Bark!\".'''\n",
        "# Parent class\n",
        "class Animal:\n",
        "    def speak(self):\n",
        "        print(\"The animal makes a sound.\")\n",
        "# Child class\n",
        "class Dog(Animal):\n",
        "    def speak(self):\n",
        "        print(\"Bark!\")\n",
        "generic_animal = Animal()\n",
        "generic_animal.speak()\n",
        "\n",
        "dog = Dog()\n",
        "dog.speak()\n"
      ],
      "metadata": {
        "colab": {
          "base_uri": "https://localhost:8080/"
        },
        "id": "i3Qi5An9ZE7F",
        "outputId": "786dca95-4487-4c10-8801-22e76d889afb"
      },
      "execution_count": null,
      "outputs": [
        {
          "output_type": "stream",
          "name": "stdout",
          "text": [
            "The animal makes a sound.\n",
            "Bark!\n"
          ]
        }
      ]
    },
    {
      "cell_type": "code",
      "source": [
        "'''Question 2. Write a program to create an abstract class Shape with a method area(). Derive classes Circle and Rectangle\n",
        "from it and implement the area() method in both.'''\n",
        "from abc import ABC, abstractmethod\n",
        "import math\n",
        "\n",
        "# Abstract Class Shape\n",
        "class Shape(ABC):\n",
        "    @abstractmethod\n",
        "    def area(self):\n",
        "        pass  # Abstract method that must be implemented by derived classes\n",
        "\n",
        "# Derived Class Circle\n",
        "class Circle(Shape):\n",
        "    def __init__(self, radius):\n",
        "        self.radius = radius\n",
        "    def area(self):\n",
        "        # Area of a circle = π * r^2\n",
        "        return math.pi * self.radius ** 2\n",
        "\n",
        "# Derived Class Rectangle\n",
        "class Rectangle(Shape):\n",
        "    def __init__(self, width, height):\n",
        "        self.width = width\n",
        "        self.height = height\n",
        "\n",
        "    def area(self):\n",
        "        # Area of a rectangle = width * height\n",
        "        return self.width * self.height\n",
        "\n",
        "# Create instances of Circle and Rectangle\n",
        "circle = Circle(5)  # Circle with radius 5\n",
        "rectangle = Rectangle(4, 6)  # Rectangle with width 4 and height 6\n",
        "\n",
        "# Display the areas\n",
        "print(f\"Area of the circle: {circle.area():.2f}\")\n",
        "print(f\"Area of the rectangle: {rectangle.area():.2f}\")\n"
      ],
      "metadata": {
        "colab": {
          "base_uri": "https://localhost:8080/"
        },
        "id": "MxVcGtHZdKo-",
        "outputId": "0c79cb1d-c0d3-42be-ad31-d2c6b84c5c7c"
      },
      "execution_count": null,
      "outputs": [
        {
          "output_type": "stream",
          "name": "stdout",
          "text": [
            "Area of the circle: 78.54\n",
            "Area of the rectangle: 24.00\n"
          ]
        }
      ]
    },
    {
      "cell_type": "code",
      "source": [
        "'''Question  3. Implement a multi-level inheritance scenario where a class Vehicle has an attribute type. Derive a class Car\n",
        "and further derive a class ElectricCar that adds a battery attribute.'''\n",
        "# Base Class: Vehicle\n",
        "class Vehicle:\n",
        "    def __init__(self, vehicle_type):\n",
        "        self.type = vehicle_type\n",
        "\n",
        "    def display_type(self):\n",
        "        return f\"This is a {self.type} vehicle.\"\n",
        "\n",
        "# Derived Class: Car (Inheriting from Vehicle)\n",
        "class Car(Vehicle):\n",
        "    def __init__(self, vehicle_type, brand):\n",
        "        super().__init__(vehicle_type)  # Initialize the Vehicle class\n",
        "        self.brand = brand\n",
        "\n",
        "    def display_brand(self):\n",
        "        return f\"This car is a {self.brand}.\"\n",
        "\n",
        "# Further Derived Class: ElectricCar (Inheriting from Car)\n",
        "class ElectricCar(Car):\n",
        "    def __init__(self, vehicle_type, brand, battery_capacity):\n",
        "        super().__init__(vehicle_type, brand)  # Initialize the Car class\n",
        "        self.battery_capacity = battery_capacity\n",
        "\n",
        "    def display_battery(self):\n",
        "        return f\"This electric car has a battery capacity of {self.battery_capacity} kWh.\"\n",
        "\n",
        "# Create an instance of ElectricCar\n",
        "electric_car = ElectricCar(\"Electric\", \"Tesla\", 75)\n",
        "\n",
        "# Display the details of the ElectricCar\n",
        "print(electric_car.display_type())      # From Vehicle class\n",
        "print(electric_car.display_brand())     # From Car class\n",
        "print(electric_car.display_battery())   # From ElectricCar class\n"
      ],
      "metadata": {
        "colab": {
          "base_uri": "https://localhost:8080/"
        },
        "id": "-B_n2a-NdUTA",
        "outputId": "e9f038c9-98e3-4bd5-c338-b6fcc8aab772"
      },
      "execution_count": null,
      "outputs": [
        {
          "output_type": "stream",
          "name": "stdout",
          "text": [
            "This is a Electric vehicle.\n",
            "This car is a Tesla.\n",
            "This electric car has a battery capacity of 75 kWh.\n"
          ]
        }
      ]
    },
    {
      "cell_type": "code",
      "source": [
        "'''Question 4. Demonstrate polymorphism by creating a base class Bird with a method fly(). Create two derived classes\n",
        "Sparrow and Penguin that override the fly() method.'''\n",
        "class Bird:\n",
        "    def fly(self):\n",
        "        print(\"This bird can fly.\")\n",
        "class Sparrow(Bird):\n",
        "    def fly(self):\n",
        "        print(\"Sparrow flies high in the sky.\")\n",
        "class Penguin(Bird):\n",
        "    def fly(self):\n",
        "        print(\"Penguins cannot fly, they swim.\")\n",
        "def bird_flight(bird):\n",
        "    bird.fly()\n",
        "sparrow = Sparrow()\n",
        "penguin = Penguin()\n",
        "bird_flight(sparrow)\n",
        "bird_flight(penguin)"
      ],
      "metadata": {
        "colab": {
          "base_uri": "https://localhost:8080/"
        },
        "id": "o7de9ljgdc3M",
        "outputId": "d11b59f6-bf0e-4828-e893-fbf21a03e4f8"
      },
      "execution_count": null,
      "outputs": [
        {
          "output_type": "stream",
          "name": "stdout",
          "text": [
            "Sparrow flies high in the sky.\n",
            "Penguins cannot fly, they swim.\n"
          ]
        }
      ]
    },
    {
      "cell_type": "code",
      "source": [
        "'''Question 5. Write a program to demonstrate encapsulation by creating a class BankAccount with private attributes\n",
        "balance and methods to deposit, withdraw, and check balance.'''\n",
        "class BankAccount:\n",
        "    def __init__(self, initial_balance=0):\n",
        "        self.__balance = initial_balance\n",
        "\n",
        "    def deposit(self, amount):\n",
        "        if amount > 0:\n",
        "            self.__balance += amount\n",
        "            print(f\"Deposited: ${amount}\")\n",
        "        else:\n",
        "            print(\"Deposit amount must be positive.\")\n",
        "    def withdraw(self, amount):\n",
        "        if amount > self.__balance:\n",
        "            print(\"Insufficient funds.\")\n",
        "        elif amount <= 0:\n",
        "            print(\"Withdrawal amount must be positive.\")\n",
        "        else:\n",
        "            self.__balance -= amount\n",
        "            print(f\"Withdrew: ${amount}\")\n",
        "    def check_balance(self):\n",
        "        print(f\"Current Balance: ${self.__balance}\")\n",
        "account = BankAccount(100)\n",
        "\n",
        "account.check_balance()\n",
        "account.deposit(50)\n",
        "account.withdraw(30)\n",
        "account.check_balance()\n",
        "\n",
        "\n"
      ],
      "metadata": {
        "colab": {
          "base_uri": "https://localhost:8080/"
        },
        "id": "xB2bR-k1doAY",
        "outputId": "d0bff4a8-e8b7-4daf-fddb-e7d0600ad4bb"
      },
      "execution_count": null,
      "outputs": [
        {
          "output_type": "stream",
          "name": "stdout",
          "text": [
            "Current Balance: $100\n",
            "Deposited: $50\n",
            "Withdrew: $30\n",
            "Current Balance: $120\n"
          ]
        }
      ]
    },
    {
      "cell_type": "code",
      "source": [
        "'''Question  6. Demonstrate runtime polymorphism using a method play() in a base class Instrument. Derive classes Guitar\n",
        "and Piano that implement their own version of play().'''\n",
        "class Instrument:\n",
        "    def play(self):\n",
        "        print(\"The instrument is playing.\")\n",
        "class Guitar(Instrument):\n",
        "    def play(self):\n",
        "        print(\"The guitar is strumming chords.\")\n",
        "class Piano(Instrument):\n",
        "    def play(self):\n",
        "        print(\"The piano is playing a melody.\")\n",
        "def start_playing(instrument):\n",
        "    instrument.play()\n",
        "guitar = Guitar()\n",
        "piano = Piano()\n",
        "start_playing(guitar)\n",
        "start_playing(piano)\n"
      ],
      "metadata": {
        "colab": {
          "base_uri": "https://localhost:8080/"
        },
        "id": "ZV3kA2Vmdzrw",
        "outputId": "7e865588-cd68-4bf6-926f-a57b05871df5"
      },
      "execution_count": 4,
      "outputs": [
        {
          "output_type": "stream",
          "name": "stdout",
          "text": [
            "The guitar is strumming chords.\n",
            "The piano is playing a melody.\n"
          ]
        }
      ]
    },
    {
      "cell_type": "code",
      "source": [
        "'''Question  7. Create a class MathOperations with a class method add_numbers() to add two numbers and a static\n",
        "method subtract_numbers() to subtract two numbers.'''\n",
        "class MathOperations:\n",
        "    @classmethod\n",
        "    def add_numbers(cls, a, b):\n",
        "        return a + b\n",
        "    @staticmethod\n",
        "    def subtract_numbers(a, b):\n",
        "        return a - b\n",
        "print(\"Addition:\", MathOperations.add_numbers(10, 5))      # Output: 15\n",
        "print(\"Subtraction:\", MathOperations.subtract_numbers(10, 5))  # Output: 5\n"
      ],
      "metadata": {
        "colab": {
          "base_uri": "https://localhost:8080/"
        },
        "id": "m0xxiUIOeMH4",
        "outputId": "d084dda5-b347-4b89-f5eb-11485a4a98d9"
      },
      "execution_count": 5,
      "outputs": [
        {
          "output_type": "stream",
          "name": "stdout",
          "text": [
            "Addition: 15\n",
            "Subtraction: 5\n"
          ]
        }
      ]
    },
    {
      "cell_type": "code",
      "source": [
        "#Question  8. Implement a class Person with a class method to count the total number of persons created.\n",
        "class Person:\n",
        "    count = 0\n",
        "    def __init__(self, name):\n",
        "        self.name = name\n",
        "        Person.count += 1\n",
        "    @classmethod\n",
        "    def total_persons(cls):\n",
        "        return f\"Total persons created: {cls.count}\"\n",
        "p1 = Person(\"Alice\")\n",
        "p2 = Person(\"Bob\")\n",
        "p3 = Person(\"Charlie\")\n",
        "print(Person.total_persons())\n"
      ],
      "metadata": {
        "id": "IW3yd7KIeYYm",
        "colab": {
          "base_uri": "https://localhost:8080/"
        },
        "outputId": "3e431f81-3e5b-4598-ff19-57e1ea3025e3"
      },
      "execution_count": 6,
      "outputs": [
        {
          "output_type": "stream",
          "name": "stdout",
          "text": [
            "Total persons created: 3\n"
          ]
        }
      ]
    },
    {
      "cell_type": "code",
      "source": [
        "'''Question  9. Write a class Fraction with attributes numerator and denominator. Override the str method to display the\n",
        "fraction as \"numerator/denominator\".'''\n",
        "class Fraction:\n",
        "    def __init__(self, numerator, denominator):\n",
        "        self.numerator = numerator\n",
        "        self.denominator = denominator\n",
        "\n",
        "    def __str__(self):\n",
        "        return f\"{self.numerator}/{self.denominator}\"\n",
        "f1 = Fraction(3, 4)\n",
        "f2 = Fraction(5, 8)\n",
        "\n",
        "print(f1)  # Output: 3/4\n",
        "print(f2)  # Output: 5/8\n"
      ],
      "metadata": {
        "colab": {
          "base_uri": "https://localhost:8080/"
        },
        "id": "UJzgFsmLeqyM",
        "outputId": "58662b44-5760-4e81-8b0d-8b314de5e1a0"
      },
      "execution_count": 7,
      "outputs": [
        {
          "output_type": "stream",
          "name": "stdout",
          "text": [
            "3/4\n",
            "5/8\n"
          ]
        }
      ]
    },
    {
      "cell_type": "code",
      "source": [
        "'''Question 10. Demonstrate operator overloading by creating a class Vector and overriding the add method to add two\n",
        "vectors.'''\n",
        "class Vector:\n",
        "    def __init__(self, x, y):\n",
        "        self.x = x\n",
        "        self.y = y\n",
        "\n",
        "    def __add__(self, other):\n",
        "        return Vector(self.x + other.x, self.y + other.y)\n",
        "\n",
        "    def __str__(self):\n",
        "        return f\"Vector({self.x}, {self.y})\"\n",
        "v1 = Vector(2, 3)\n",
        "v2 = Vector(4, 1)\n",
        "v3 = v1 + v2\n",
        "\n",
        "print(v3)"
      ],
      "metadata": {
        "colab": {
          "base_uri": "https://localhost:8080/"
        },
        "id": "IoYhTMkUexQs",
        "outputId": "dec96c99-a929-478d-9d92-290c3c0f9ca0"
      },
      "execution_count": 8,
      "outputs": [
        {
          "output_type": "stream",
          "name": "stdout",
          "text": [
            "Vector(6, 4)\n"
          ]
        }
      ]
    },
    {
      "cell_type": "code",
      "source": [
        "'''Question 11. Create a class Person with attributes name and age. Add a method greet() that prints \"Hello, my name is\n",
        "{name} and I am {age} years old.\"'''\n",
        "class Person:\n",
        "    def __init__(self, name, age):\n",
        "        self.name = name\n",
        "        self.age = age\n",
        "\n",
        "    def greet(self):\n",
        "        print(f\"Hello, my name is {self.name} and I am {self.age} years old.\")\n",
        "person1 = Person(\"Alice\", 30)\n",
        "person2 = Person(\"Bob\", 25)\n",
        "\n",
        "person1.greet()\n",
        "person2.greet()\n"
      ],
      "metadata": {
        "colab": {
          "base_uri": "https://localhost:8080/"
        },
        "id": "HuD4Nn_BfEEI",
        "outputId": "fcded55b-ed76-48f9-89d7-2711295f06a5"
      },
      "execution_count": 9,
      "outputs": [
        {
          "output_type": "stream",
          "name": "stdout",
          "text": [
            "Hello, my name is Alice and I am 30 years old.\n",
            "Hello, my name is Bob and I am 25 years old.\n"
          ]
        }
      ]
    },
    {
      "cell_type": "code",
      "source": [
        "'''Question 12 Implement a class Student with attributes name and grades. Create a method average_grade() to compute\n",
        "the average of the grades.'''\n",
        "class Student:\n",
        "    def __init__(self, name, grades):\n",
        "        self.name = name\n",
        "        self.grades = grades\n",
        "\n",
        "    def average_grade(self):\n",
        "        if not self.grades:\n",
        "            return 0\n",
        "        return sum(self.grades) / len(self.grades)\n",
        "\n",
        "\n",
        "student1 = Student(\"Alice\", [85, 90, 78])\n",
        "student2 = Student(\"Bob\", [70, 88, 92, 76])\n",
        "\n",
        "print(f\"{student1.name}'s average grade: {student1.average_grade():.2f}\")\n",
        "print(f\"{student2.name}'s average grade: {student2.average_grade():.2f}\")\n"
      ],
      "metadata": {
        "colab": {
          "base_uri": "https://localhost:8080/"
        },
        "id": "1Zlhpy_mfYr4",
        "outputId": "2a4eda5a-28e7-44fa-c056-c6fa637857f9"
      },
      "execution_count": 11,
      "outputs": [
        {
          "output_type": "stream",
          "name": "stdout",
          "text": [
            "Alice's average grade: 84.33\n",
            "Bob's average grade: 81.50\n"
          ]
        }
      ]
    },
    {
      "cell_type": "code",
      "source": [
        "'''Question 13. Create a class Rectangle with methods set_dimensions() to set the dimensions and area() to calculate the\n",
        "area.'''\n",
        "class Rectangle:\n",
        "    def __init__(self):\n",
        "        self.length = 0\n",
        "        self.width = 0\n",
        "\n",
        "    def set_dimensions(self, length, width):\n",
        "        self.length = length\n",
        "        self.width = width\n",
        "\n",
        "    def area(self):\n",
        "        return self.length * self.width\n",
        "\n",
        "rect = Rectangle()\n",
        "rect.set_dimensions(5, 3)\n",
        "print(f\"Area of rectangle: {rect.area()}\")  # Output: 15\n",
        "\n"
      ],
      "metadata": {
        "colab": {
          "base_uri": "https://localhost:8080/"
        },
        "id": "pWXtJ0UUfhRU",
        "outputId": "240197e2-cd12-489b-acff-8d32812b5553"
      },
      "execution_count": 12,
      "outputs": [
        {
          "output_type": "stream",
          "name": "stdout",
          "text": [
            "Area of rectangle: 15\n"
          ]
        }
      ]
    },
    {
      "cell_type": "code",
      "source": [
        "'''Question 14. Create a class Employee with a method calculate_salary() that computes the salary based on hours worked\n",
        "and hourly rate. Create a derived class Manager that adds a bonus to the salary'''\n",
        "# Base class: Employee\n",
        "class Employee:\n",
        "    def __init__(self, name, hours_worked, hourly_rate):\n",
        "        self.name = name\n",
        "        self.hours_worked = hours_worked\n",
        "        self.hourly_rate = hourly_rate\n",
        "\n",
        "    def calculate_salary(self):\n",
        "        return self.hours_worked * self.hourly_rate\n",
        "\n",
        "class Manager(Employee):\n",
        "    def __init__(self, name, hours_worked, hourly_rate, bonus):\n",
        "        super().__init__(name, hours_worked, hourly_rate)\n",
        "        self.bonus = bonus\n",
        "\n",
        "    def calculate_salary(self):\n",
        "        base_salary = super().calculate_salary()\n",
        "        return base_salary + self.bonus\n",
        "\n",
        "employee = Employee(\"John\", 40, 20)\n",
        "manager = Manager(\"Alice\", 40, 25, 500)\n",
        "\n",
        "print(f\"{employee.name}'s salary: ${employee.calculate_salary()}\")\n",
        "print(f\"{manager.name}'s salary (with bonus): ${manager.calculate_salary()}\")\n"
      ],
      "metadata": {
        "colab": {
          "base_uri": "https://localhost:8080/"
        },
        "id": "kCpZe5LSfw0F",
        "outputId": "cc65449d-0963-4f19-9524-92d1373880f7"
      },
      "execution_count": 13,
      "outputs": [
        {
          "output_type": "stream",
          "name": "stdout",
          "text": [
            "John's salary: $800\n",
            "Alice's salary (with bonus): $1500\n"
          ]
        }
      ]
    },
    {
      "cell_type": "code",
      "source": [
        "'''Question 15. Create a class Product with attributes name, price, and quantity. Implement a method total_price() that\n",
        "calculates the total price of the product.'''\n",
        "class Product:\n",
        "    def __init__(self, name, price, quantity):\n",
        "        self.name = name\n",
        "        self.price = price\n",
        "        self.quantity = quantity\n",
        "\n",
        "    def total_price(self):\n",
        "        return self.price * self.quantity\n",
        "\n",
        "\n",
        "product1 = Product(\"Laptop\", 1000, 3)\n",
        "product2 = Product(\"Smartphone\", 500, 5)\n",
        "\n",
        "print(f\"Total price of {product1.name}: ${product1.total_price()}\")\n",
        "print(f\"Total price of {product2.name}: ${product2.total_price()}\")\n"
      ],
      "metadata": {
        "colab": {
          "base_uri": "https://localhost:8080/"
        },
        "id": "78pfq8G2gC8D",
        "outputId": "82627b67-929f-42ef-d25a-375181ca8177"
      },
      "execution_count": 14,
      "outputs": [
        {
          "output_type": "stream",
          "name": "stdout",
          "text": [
            "Total price of Laptop: $3000\n",
            "Total price of Smartphone: $2500\n"
          ]
        }
      ]
    },
    {
      "cell_type": "code",
      "source": [
        "'''Question 16 Create a class Animal with an abstract method sound(). Create two derived classes Cow and Sheep that\n",
        "implement the sound() method.'''\n",
        "from abc import ABC, abstractmethod\n",
        "\n",
        "class Animal(ABC):\n",
        "    @abstractmethod\n",
        "    def sound(self):\n",
        "        pass\n",
        "class Cow(Animal):\n",
        "    def sound(self):\n",
        "        return \"Moo\"\n",
        "class Sheep(Animal):\n",
        "    def sound(self):\n",
        "        return \"Baa\"\n",
        "cow = Cow()\n",
        "sheep = Sheep()\n",
        "\n",
        "print(f\"Cow sound: {cow.sound()}\")\n",
        "print(f\"Sheep sound: {sheep.sound()}\")\n"
      ],
      "metadata": {
        "colab": {
          "base_uri": "https://localhost:8080/"
        },
        "id": "yt1OMaOrgq00",
        "outputId": "86909cd6-bf2d-434e-c845-cd21662753c7"
      },
      "execution_count": 16,
      "outputs": [
        {
          "output_type": "stream",
          "name": "stdout",
          "text": [
            "Cow sound: Moo\n",
            "Sheep sound: Baa\n"
          ]
        }
      ]
    },
    {
      "cell_type": "code",
      "source": [
        "'''Question 17. Create a class Book with attributes title, author, and year_published. Add a method get_book_info() that\n",
        "returns a formatted string with the book's details'''\n",
        "class Book:\n",
        "    def __init__(self, title, author, year_published):\n",
        "        self.title = title\n",
        "        self.author = author\n",
        "        self.year_published = year_published\n",
        "\n",
        "    def get_book_info(self):\n",
        "        return f\"'{self.title}' by {self.author}, published in {self.year_published}\"\n",
        "book1 = Book(\"1984\", \"George Orwell\", 1949)\n",
        "book2 = Book(\"To Kill a Mockingbird\", \"Harper Lee\", 1960)\n",
        "\n",
        "print(book1.get_book_info())\n",
        "print(book2.get_book_info())\n",
        "\n"
      ],
      "metadata": {
        "colab": {
          "base_uri": "https://localhost:8080/"
        },
        "id": "QL8cFWA6g4d0",
        "outputId": "cceb2fe4-3213-4bc6-9b87-18198d329177"
      },
      "execution_count": 17,
      "outputs": [
        {
          "output_type": "stream",
          "name": "stdout",
          "text": [
            "'1984' by George Orwell, published in 1949\n",
            "'To Kill a Mockingbird' by Harper Lee, published in 1960\n"
          ]
        }
      ]
    },
    {
      "cell_type": "code",
      "source": [
        "'''Question 18. Create a class House with attributes address and price. Create a derived class Mansion that adds an\n",
        "attribute number_of_rooms.'''\n",
        "class House:\n",
        "    def __init__(self, address, price):\n",
        "        self.address = address\n",
        "        self.price = price\n",
        "\n",
        "    def get_info(self):\n",
        "        return f\"Address: {self.address}, Price: ${self.price}\"\n",
        "\n",
        "class Mansion(House):\n",
        "    def __init__(self, address, price, number_of_rooms):\n",
        "        super().__init__(address, price)\n",
        "        self.number_of_rooms = number_of_rooms\n",
        "\n",
        "    def get_info(self):\n",
        "        base_info = super().get_info()\n",
        "        return f\"{base_info}, Number of Rooms: {self.number_of_rooms}\"\n",
        "house = House(\"123 Elm St\", 250000)\n",
        "mansion = Mansion(\"456 Oak Ave\", 1500000, 10)\n",
        "\n",
        "print(house.get_info())\n",
        "print(mansion.get_info())\n"
      ],
      "metadata": {
        "id": "3nMrB1hshAf1",
        "colab": {
          "base_uri": "https://localhost:8080/"
        },
        "outputId": "f430feda-cfd7-4d3e-d18a-8012de04cae3"
      },
      "execution_count": 18,
      "outputs": [
        {
          "output_type": "stream",
          "name": "stdout",
          "text": [
            "Address: 123 Elm St, Price: $250000\n",
            "Address: 456 Oak Ave, Price: $1500000, Number of Rooms: 10\n"
          ]
        }
      ]
    },
    {
      "cell_type": "code",
      "source": [],
      "metadata": {
        "id": "VGtVQx1yxW7x"
      },
      "execution_count": null,
      "outputs": []
    }
  ]
}